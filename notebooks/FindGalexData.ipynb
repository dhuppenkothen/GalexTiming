{
 "cells": [
  {
   "cell_type": "markdown",
   "metadata": {},
   "source": [
    "GALEX data for XRBs."
   ]
  },
  {
   "cell_type": "code",
   "execution_count": 1,
   "metadata": {
    "collapsed": false
   },
   "outputs": [
    {
     "name": "stderr",
     "output_type": "stream",
     "text": [
      "/opt/local/Library/Frameworks/Python.framework/Versions/2.7/lib/python2.7/site-packages/IPython/kernel/__init__.py:13: ShimWarning: The `IPython.kernel` package has been deprecated. You should import from ipykernel or jupyter_client instead.\n",
      "  \"You should import from ipykernel or jupyter_client instead.\", ShimWarning)\n"
     ]
    }
   ],
   "source": [
    "%matplotlib inline\n",
    "import matplotlib.pyplot as plt\n",
    "import seaborn as sns\n",
    "\n",
    "import numpy as np\n",
    "import pandas as pd\n",
    "\n",
    "from astropy import units as u\n",
    "from astropy.coordinates import SkyCoord"
   ]
  },
  {
   "cell_type": "markdown",
   "metadata": {},
   "source": [
    "First, let's read the 2007 LMXB catalogue:"
   ]
  },
  {
   "cell_type": "code",
   "execution_count": 2,
   "metadata": {
    "collapsed": true
   },
   "outputs": [],
   "source": [
    "def strip(text):\n",
    "    try:\n",
    "        return text.strip()\n",
    "    except AttributeError:\n",
    "        return text\n",
    "\n",
    "def make_int(text):\n",
    "    return int(text.strip('\" '))"
   ]
  },
  {
   "cell_type": "code",
   "execution_count": 3,
   "metadata": {
    "collapsed": false
   },
   "outputs": [],
   "source": [
    "\n",
    "lmxb_cat = pd.read_csv(\"../data/lmxb_cat.dat\", sep=\"|\", skipinitialspace=True,\n",
    "                        names=[\"name\", \"ra\", \"dec\", \"vmag\", \"bv_color\", \"porb\", \"flux_limit\",\n",
    "                              \"flux\", \"flux_max\", \"xray_type\", \"pulse_period\", \"alt_name_1\",\n",
    "                              \"alt_name_2\"],\n",
    "                        converters = {'name' : strip,\n",
    "                                      'ra' : strip,\n",
    "                                      'dec' : strip,\n",
    "                                      'vmag' : strip,\n",
    "                                      'bv_color': strip,\n",
    "                                      \"porb\": strip,\n",
    "                                      \"flux_limit\": strip,\n",
    "                                      \"flux\": strip,\n",
    "                                      \"flux_max\": strip,\n",
    "                                      \"xray_type\": strip,\n",
    "                                      \"pulse_period\": strip,\n",
    "                                      \"alt_name_1\": strip,\n",
    "                                      \"alt_name_2\": strip},\n",
    "                       usecols=range(1,14,1), index_col=False,\n",
    "                       skiprows=1)"
   ]
  },
  {
   "cell_type": "code",
   "execution_count": 4,
   "metadata": {
    "collapsed": false
   },
   "outputs": [
    {
     "data": {
      "text/html": [
       "<div>\n",
       "<table border=\"1\" class=\"dataframe\">\n",
       "  <thead>\n",
       "    <tr style=\"text-align: right;\">\n",
       "      <th></th>\n",
       "      <th>name</th>\n",
       "      <th>ra</th>\n",
       "      <th>dec</th>\n",
       "      <th>vmag</th>\n",
       "      <th>bv_color</th>\n",
       "      <th>porb</th>\n",
       "      <th>flux_limit</th>\n",
       "      <th>flux</th>\n",
       "      <th>flux_max</th>\n",
       "      <th>xray_type</th>\n",
       "      <th>pulse_period</th>\n",
       "      <th>alt_name_1</th>\n",
       "      <th>alt_name_2</th>\n",
       "    </tr>\n",
       "  </thead>\n",
       "  <tbody>\n",
       "    <tr>\n",
       "      <th>0</th>\n",
       "      <td>SAX J1603.9-7753</td>\n",
       "      <td>16 03 54.00</td>\n",
       "      <td>-77 53 06.0</td>\n",
       "      <td></td>\n",
       "      <td></td>\n",
       "      <td></td>\n",
       "      <td></td>\n",
       "      <td>160.00</td>\n",
       "      <td></td>\n",
       "      <td>T, B</td>\n",
       "      <td></td>\n",
       "      <td></td>\n",
       "      <td></td>\n",
       "    </tr>\n",
       "    <tr>\n",
       "      <th>1</th>\n",
       "      <td>2A 0521-720</td>\n",
       "      <td>05 20 28.04</td>\n",
       "      <td>-71 57 53.3</td>\n",
       "      <td>18.00</td>\n",
       "      <td>0.00</td>\n",
       "      <td>0.3400</td>\n",
       "      <td></td>\n",
       "      <td>9.00</td>\n",
       "      <td>44</td>\n",
       "      <td>Z</td>\n",
       "      <td></td>\n",
       "      <td>LMC X-2</td>\n",
       "      <td></td>\n",
       "    </tr>\n",
       "    <tr>\n",
       "      <th>2</th>\n",
       "      <td>RX J0532.7-6926</td>\n",
       "      <td>05 32 42.80</td>\n",
       "      <td>-69 26 18.0</td>\n",
       "      <td></td>\n",
       "      <td></td>\n",
       "      <td></td>\n",
       "      <td></td>\n",
       "      <td>0.50</td>\n",
       "      <td></td>\n",
       "      <td></td>\n",
       "      <td></td>\n",
       "      <td></td>\n",
       "      <td></td>\n",
       "    </tr>\n",
       "    <tr>\n",
       "      <th>3</th>\n",
       "      <td>4U 1254-69</td>\n",
       "      <td>12 57 37.20</td>\n",
       "      <td>-69 17 20.8</td>\n",
       "      <td>19.10</td>\n",
       "      <td>0.30</td>\n",
       "      <td>0.1638</td>\n",
       "      <td></td>\n",
       "      <td>25.00</td>\n",
       "      <td></td>\n",
       "      <td>B, D</td>\n",
       "      <td></td>\n",
       "      <td></td>\n",
       "      <td></td>\n",
       "    </tr>\n",
       "    <tr>\n",
       "      <th>4</th>\n",
       "      <td>GS 1124-684</td>\n",
       "      <td>11 26 26.70</td>\n",
       "      <td>-68 40 32.6</td>\n",
       "      <td>13.30</td>\n",
       "      <td>0.30</td>\n",
       "      <td>0.4325</td>\n",
       "      <td></td>\n",
       "      <td>3000.00</td>\n",
       "      <td></td>\n",
       "      <td>T, U, R</td>\n",
       "      <td></td>\n",
       "      <td>N Mus 1991</td>\n",
       "      <td></td>\n",
       "    </tr>\n",
       "  </tbody>\n",
       "</table>\n",
       "</div>"
      ],
      "text/plain": [
       "               name           ra          dec   vmag bv_color    porb  \\\n",
       "0  SAX J1603.9-7753  16 03 54.00  -77 53 06.0                           \n",
       "1       2A 0521-720  05 20 28.04  -71 57 53.3  18.00     0.00  0.3400   \n",
       "2   RX J0532.7-6926  05 32 42.80  -69 26 18.0                           \n",
       "3        4U 1254-69  12 57 37.20  -69 17 20.8  19.10     0.30  0.1638   \n",
       "4       GS 1124-684  11 26 26.70  -68 40 32.6  13.30     0.30  0.4325   \n",
       "\n",
       "  flux_limit     flux flux_max xray_type pulse_period  alt_name_1 alt_name_2  \n",
       "0              160.00               T, B                                      \n",
       "1                9.00       44         Z                  LMC X-2             \n",
       "2                0.50                                                         \n",
       "3               25.00               B, D                                      \n",
       "4             3000.00            T, U, R               N Mus 1991             "
      ]
     },
     "execution_count": 4,
     "metadata": {},
     "output_type": "execute_result"
    }
   ],
   "source": [
    "lmxb_cat.head()"
   ]
  },
  {
   "cell_type": "code",
   "execution_count": 5,
   "metadata": {
    "collapsed": false
   },
   "outputs": [],
   "source": [
    "ra_all = np.array(lmxb_cat[\"ra\"])\n",
    "dec_all = np.array(lmxb_cat[\"dec\"])"
   ]
  },
  {
   "cell_type": "code",
   "execution_count": 6,
   "metadata": {
    "collapsed": false
   },
   "outputs": [],
   "source": [
    "coords_all = [SkyCoord(\"%s %s\"%(ra, dec), unit=(u.hourangle, u.deg)) \\\n",
    "              for ra,dec in zip(ra_all, dec_all)]"
   ]
  },
  {
   "cell_type": "markdown",
   "metadata": {},
   "source": [
    "Now we can use `gPhoton.gFind` to search for observations of LMXBs:"
   ]
  },
  {
   "cell_type": "code",
   "execution_count": 7,
   "metadata": {
    "collapsed": true
   },
   "outputs": [],
   "source": [
    "from gPhoton.gFind import gFind"
   ]
  },
  {
   "cell_type": "code",
   "execution_count": 8,
   "metadata": {
    "collapsed": false,
    "scrolled": true
   },
   "outputs": [
    {
     "name": "stdout",
     "output_type": "stream",
     "text": [
      "No NUV exposure time in database.\n",
      "NUV: 4093.0s (raw) in 4 exposures.\n",
      "    [ 998731366.995, 998732435.995 ], 1069.000 seconds\n",
      "    [ 1003054424.995, 1003055880.995 ], 1456.000 seconds\n",
      "    [ 1003066256.995, 1003067714.995 ], 1458.000 seconds\n",
      "    [ 1003410169.995, 1003410279.995 ], 110.000 seconds\n",
      "NUV: 1221.0s (raw) in 1 exposures.\n",
      "    [ 1010837477.995, 1010838698.995 ], 1221.000 seconds\n",
      "No NUV exposure time in database.\n",
      "NUV: 197.0s (raw) in 2 exposures.\n",
      "    [ 989255562.995, 989255670.995 ], 108.000 seconds\n",
      "    [ 1012056105.995, 1012056194.995 ], 89.000 seconds\n"
     ]
    }
   ],
   "source": [
    "for c in coords_all[:5]:\n",
    "    gFind(band='NUV',skypos=[c.ra.degree,c.dec.degree])"
   ]
  },
  {
   "cell_type": "code",
   "execution_count": 9,
   "metadata": {
    "collapsed": false
   },
   "outputs": [
    {
     "name": "stdout",
     "output_type": "stream",
     "text": [
      "NUV: 4093.0s (raw) in 4 exposures.\n",
      "    [ 998731366.995, 998732435.995 ], 1069.000 seconds\n",
      "    [ 1003054424.995, 1003055880.995 ], 1456.000 seconds\n",
      "    [ 1003066256.995, 1003067714.995 ], 1458.000 seconds\n",
      "    [ 1003410169.995, 1003410279.995 ], 110.000 seconds\n"
     ]
    }
   ],
   "source": [
    "c = coords_all[1]\n",
    "res = gFind(band='NUV',skypos=[c.ra.degree,c.dec.degree])"
   ]
  },
  {
   "cell_type": "code",
   "execution_count": 10,
   "metadata": {
    "collapsed": false
   },
   "outputs": [
    {
     "data": {
      "text/plain": [
       "{'NUV': {'expt': 4093.0,\n",
       "  't0': array([  9.98731367e+08,   1.00305442e+09,   1.00306626e+09,\n",
       "           1.00341017e+09]),\n",
       "  't1': array([  9.98732436e+08,   1.00305588e+09,   1.00306771e+09,\n",
       "           1.00341028e+09])}}"
      ]
     },
     "execution_count": 10,
     "metadata": {},
     "output_type": "execute_result"
    }
   ],
   "source": [
    "res"
   ]
  },
  {
   "cell_type": "code",
   "execution_count": 11,
   "metadata": {
    "collapsed": false
   },
   "outputs": [
    {
     "name": "stdout",
     "output_type": "stream",
     "text": [
      "[998731366.995, 998732435.995]\n",
      "1069.0\n"
     ]
    }
   ],
   "source": [
    "print([res[\"NUV\"][\"t0\"][0], res[\"NUV\"][\"t1\"][0]])\n",
    "print(res[\"NUV\"][\"t1\"][0] - res[\"NUV\"][\"t0\"][0])\n"
   ]
  },
  {
   "cell_type": "markdown",
   "metadata": {},
   "source": [
    "Now let's extract some data in the near-UV:"
   ]
  },
  {
   "cell_type": "code",
   "execution_count": 12,
   "metadata": {
    "collapsed": true
   },
   "outputs": [],
   "source": [
    "from gPhoton.gAperture import gAperture"
   ]
  },
  {
   "cell_type": "code",
   "execution_count": 13,
   "metadata": {
    "collapsed": false
   },
   "outputs": [],
   "source": [
    "d = gAperture(band=\"NUV\", skypos=[c.ra.degree,c.dec.degree],radius=0.03,annulus=[0.03,0.04],\n",
    "              trange=[res[\"NUV\"][\"t0\"][0], res[\"NUV\"][\"t1\"][0]], stepsz=1.0,\n",
    "              csvfile=\"galex_lmxb_test.csv\")"
   ]
  },
  {
   "cell_type": "code",
   "execution_count": 14,
   "metadata": {
    "collapsed": true
   },
   "outputs": [],
   "source": [
    "lc_df = pd.read_csv(\"galex_lmxb_test.csv\")"
   ]
  },
  {
   "cell_type": "code",
   "execution_count": 15,
   "metadata": {
    "collapsed": false
   },
   "outputs": [
    {
     "data": {
      "text/html": [
       "<div>\n",
       "<table border=\"1\" class=\"dataframe\">\n",
       "  <thead>\n",
       "    <tr style=\"text-align: right;\">\n",
       "      <th></th>\n",
       "      <th>t0</th>\n",
       "      <th>t1</th>\n",
       "      <th>exptime</th>\n",
       "      <th>mag_bgsub_cheese</th>\n",
       "      <th>t_mean</th>\n",
       "      <th>t0_data</th>\n",
       "      <th>t1_data</th>\n",
       "      <th>cps</th>\n",
       "      <th>counts</th>\n",
       "      <th>bg</th>\n",
       "      <th>mag</th>\n",
       "      <th>mag_bgsub</th>\n",
       "      <th>flux</th>\n",
       "      <th>flux_bgsub</th>\n",
       "      <th>flux_bgsub_cheese</th>\n",
       "      <th>bg_cheese</th>\n",
       "      <th>detx</th>\n",
       "      <th>dety</th>\n",
       "      <th>detrad</th>\n",
       "      <th>response</th>\n",
       "    </tr>\n",
       "  </thead>\n",
       "  <tbody>\n",
       "    <tr>\n",
       "      <th>0</th>\n",
       "      <td>9.987314e+08</td>\n",
       "      <td>9.987314e+08</td>\n",
       "      <td>0.613186</td>\n",
       "      <td>15.355585</td>\n",
       "      <td>9.987314e+08</td>\n",
       "      <td>9.987314e+08</td>\n",
       "      <td>9.987314e+08</td>\n",
       "      <td>245.998556</td>\n",
       "      <td>120</td>\n",
       "      <td>163.341699</td>\n",
       "      <td>14.102669</td>\n",
       "      <td>NaN</td>\n",
       "      <td>5.067570e-14</td>\n",
       "      <td>-4.198973e-15</td>\n",
       "      <td>1.598208e-14</td>\n",
       "      <td>103.270144</td>\n",
       "      <td>385.358551</td>\n",
       "      <td>294.608398</td>\n",
       "      <td>106.403767</td>\n",
       "      <td>0.795859</td>\n",
       "    </tr>\n",
       "    <tr>\n",
       "      <th>1</th>\n",
       "      <td>9.987314e+08</td>\n",
       "      <td>9.987314e+08</td>\n",
       "      <td>0.613526</td>\n",
       "      <td>15.087778</td>\n",
       "      <td>9.987314e+08</td>\n",
       "      <td>9.987314e+08</td>\n",
       "      <td>9.987314e+08</td>\n",
       "      <td>260.312038</td>\n",
       "      <td>127</td>\n",
       "      <td>157.500551</td>\n",
       "      <td>14.041264</td>\n",
       "      <td>18.689740</td>\n",
       "      <td>5.362428e-14</td>\n",
       "      <td>7.412610e-16</td>\n",
       "      <td>2.045295e-14</td>\n",
       "      <td>98.793593</td>\n",
       "      <td>384.180023</td>\n",
       "      <td>295.090149</td>\n",
       "      <td>106.095940</td>\n",
       "      <td>0.795505</td>\n",
       "    </tr>\n",
       "    <tr>\n",
       "      <th>2</th>\n",
       "      <td>9.987314e+08</td>\n",
       "      <td>9.987314e+08</td>\n",
       "      <td>0.614948</td>\n",
       "      <td>15.143945</td>\n",
       "      <td>9.987314e+08</td>\n",
       "      <td>9.987314e+08</td>\n",
       "      <td>9.987314e+08</td>\n",
       "      <td>260.839842</td>\n",
       "      <td>128</td>\n",
       "      <td>161.452517</td>\n",
       "      <td>14.039065</td>\n",
       "      <td>NaN</td>\n",
       "      <td>5.373301e-14</td>\n",
       "      <td>-3.515588e-16</td>\n",
       "      <td>1.942178e-14</td>\n",
       "      <td>102.425402</td>\n",
       "      <td>384.305389</td>\n",
       "      <td>294.201019</td>\n",
       "      <td>106.956744</td>\n",
       "      <td>0.798253</td>\n",
       "    </tr>\n",
       "    <tr>\n",
       "      <th>3</th>\n",
       "      <td>9.987314e+08</td>\n",
       "      <td>9.987314e+08</td>\n",
       "      <td>0.613622</td>\n",
       "      <td>15.026398</td>\n",
       "      <td>9.987314e+08</td>\n",
       "      <td>9.987314e+08</td>\n",
       "      <td>9.987314e+08</td>\n",
       "      <td>255.363664</td>\n",
       "      <td>125</td>\n",
       "      <td>145.233346</td>\n",
       "      <td>14.062102</td>\n",
       "      <td>16.901457</td>\n",
       "      <td>5.260491e-14</td>\n",
       "      <td>3.848437e-15</td>\n",
       "      <td>2.164252e-14</td>\n",
       "      <td>92.229220</td>\n",
       "      <td>384.686584</td>\n",
       "      <td>294.259186</td>\n",
       "      <td>106.843907</td>\n",
       "      <td>0.797946</td>\n",
       "    </tr>\n",
       "    <tr>\n",
       "      <th>4</th>\n",
       "      <td>9.987314e+08</td>\n",
       "      <td>9.987314e+08</td>\n",
       "      <td>0.612551</td>\n",
       "      <td>16.023587</td>\n",
       "      <td>9.987314e+08</td>\n",
       "      <td>9.987314e+08</td>\n",
       "      <td>9.987314e+08</td>\n",
       "      <td>241.394007</td>\n",
       "      <td>118</td>\n",
       "      <td>191.655646</td>\n",
       "      <td>14.123184</td>\n",
       "      <td>NaN</td>\n",
       "      <td>4.972717e-14</td>\n",
       "      <td>-1.472630e-14</td>\n",
       "      <td>8.638383e-15</td>\n",
       "      <td>122.179585</td>\n",
       "      <td>383.345673</td>\n",
       "      <td>293.774384</td>\n",
       "      <td>107.523245</td>\n",
       "      <td>0.798317</td>\n",
       "    </tr>\n",
       "  </tbody>\n",
       "</table>\n",
       "</div>"
      ],
      "text/plain": [
       "             t0            t1   exptime  mag_bgsub_cheese        t_mean  \\\n",
       "0  9.987314e+08  9.987314e+08  0.613186         15.355585  9.987314e+08   \n",
       "1  9.987314e+08  9.987314e+08  0.613526         15.087778  9.987314e+08   \n",
       "2  9.987314e+08  9.987314e+08  0.614948         15.143945  9.987314e+08   \n",
       "3  9.987314e+08  9.987314e+08  0.613622         15.026398  9.987314e+08   \n",
       "4  9.987314e+08  9.987314e+08  0.612551         16.023587  9.987314e+08   \n",
       "\n",
       "        t0_data       t1_data         cps  counts          bg        mag  \\\n",
       "0  9.987314e+08  9.987314e+08  245.998556     120  163.341699  14.102669   \n",
       "1  9.987314e+08  9.987314e+08  260.312038     127  157.500551  14.041264   \n",
       "2  9.987314e+08  9.987314e+08  260.839842     128  161.452517  14.039065   \n",
       "3  9.987314e+08  9.987314e+08  255.363664     125  145.233346  14.062102   \n",
       "4  9.987314e+08  9.987314e+08  241.394007     118  191.655646  14.123184   \n",
       "\n",
       "   mag_bgsub          flux    flux_bgsub  flux_bgsub_cheese   bg_cheese  \\\n",
       "0        NaN  5.067570e-14 -4.198973e-15       1.598208e-14  103.270144   \n",
       "1  18.689740  5.362428e-14  7.412610e-16       2.045295e-14   98.793593   \n",
       "2        NaN  5.373301e-14 -3.515588e-16       1.942178e-14  102.425402   \n",
       "3  16.901457  5.260491e-14  3.848437e-15       2.164252e-14   92.229220   \n",
       "4        NaN  4.972717e-14 -1.472630e-14       8.638383e-15  122.179585   \n",
       "\n",
       "         detx        dety      detrad  response  \n",
       "0  385.358551  294.608398  106.403767  0.795859  \n",
       "1  384.180023  295.090149  106.095940  0.795505  \n",
       "2  384.305389  294.201019  106.956744  0.798253  \n",
       "3  384.686584  294.259186  106.843907  0.797946  \n",
       "4  383.345673  293.774384  107.523245  0.798317  "
      ]
     },
     "execution_count": 15,
     "metadata": {},
     "output_type": "execute_result"
    }
   ],
   "source": [
    "lc_df.head()"
   ]
  },
  {
   "cell_type": "markdown",
   "metadata": {},
   "source": [
    "Let's look what the actual intervals between photon arrival times look like:"
   ]
  },
  {
   "cell_type": "code",
   "execution_count": 16,
   "metadata": {
    "collapsed": true
   },
   "outputs": [],
   "source": [
    "t_mid = lc_df[\"t0\"] + (lc_df[\"t1\"]-lc_df[\"t0\"])/2."
   ]
  },
  {
   "cell_type": "code",
   "execution_count": 17,
   "metadata": {
    "collapsed": false
   },
   "outputs": [
    {
     "data": {
      "image/png": "[encoded data removed]",
      "text/plain": [
       "<matplotlib.figure.Figure at 0x11106fb10>"
      ]
     },
     "metadata": {},
     "output_type": "display_data"
    }
   ],
   "source": [
    "plt.hist((lc_df[\"t1\"]-lc_df[\"t0\"]), bins=100);"
   ]
  },
  {
   "cell_type": "markdown",
   "metadata": {},
   "source": [
    "And the light curve?"
   ]
  },
  {
   "cell_type": "code",
   "execution_count": 18,
   "metadata": {
    "collapsed": false
   },
   "outputs": [
    {
     "data": {
      "text/plain": [
       "[<matplotlib.lines.Line2D at 0x113b4cd90>]"
      ]
     },
     "execution_count": 18,
     "metadata": {},
     "output_type": "execute_result"
    },
    {
     "data": {
      "image/png": "[encoded data removed]",
      "text/plain": [
       "<matplotlib.figure.Figure at 0x1110a37d0>"
      ]
     },
     "metadata": {},
     "output_type": "display_data"
    }
   ],
   "source": [
    "plt.plot(t_mid, lc_df[\"flux_bgsub_cheese\"], linestyle=\"steps-mid\")"
   ]
  },
  {
   "cell_type": "markdown",
   "metadata": {},
   "source": [
    "The photon arrival times are here:"
   ]
  },
  {
   "cell_type": "code",
   "execution_count": 19,
   "metadata": {
    "collapsed": false
   },
   "outputs": [],
   "source": [
    "times = d[\"photons\"][\"t\"]"
   ]
  },
  {
   "cell_type": "markdown",
   "metadata": {},
   "source": [
    "We'll need to save the data in some sane format. Let's play around with the data until we can find a way to save the data to disk in a useful way.\n",
    "\n",
    "At the moment, we'll just save the photons in an HDF5 file."
   ]
  },
  {
   "cell_type": "code",
   "execution_count": 20,
   "metadata": {
    "collapsed": false
   },
   "outputs": [],
   "source": [
    "df = pd.DataFrame(d[\"photons\"])"
   ]
  },
  {
   "cell_type": "code",
   "execution_count": 21,
   "metadata": {
    "collapsed": false
   },
   "outputs": [
    {
     "data": {
      "text/plain": [
       "'2A0521-720'"
      ]
     },
     "execution_count": 21,
     "metadata": {},
     "output_type": "execute_result"
    }
   ],
   "source": [
    "fn = \"\".join(lmxb_cat.loc[1,\"name\"].split())\n",
    "fn"
   ]
  },
  {
   "cell_type": "code",
   "execution_count": 22,
   "metadata": {
    "collapsed": false
   },
   "outputs": [],
   "source": [
    "df.to_hdf('../data/%s_photons.h5'%fn,'table',append=False)\n"
   ]
  },
  {
   "cell_type": "code",
   "execution_count": 24,
   "metadata": {
    "collapsed": false
   },
   "outputs": [],
   "source": [
    "df_new = pd.read_hdf('../data/%s_photons.h5'%fn, \"table\")"
   ]
  },
  {
   "cell_type": "code",
   "execution_count": 25,
   "metadata": {
    "collapsed": false
   },
   "outputs": [
    {
     "data": {
      "text/html": [
       "<div>\n",
       "<table border=\"1\" class=\"dataframe\">\n",
       "  <thead>\n",
       "    <tr style=\"text-align: right;\">\n",
       "      <th></th>\n",
       "      <th>col</th>\n",
       "      <th>dec</th>\n",
       "      <th>eta</th>\n",
       "      <th>flat</th>\n",
       "      <th>ra</th>\n",
       "      <th>response</th>\n",
       "      <th>row</th>\n",
       "      <th>scale</th>\n",
       "      <th>t</th>\n",
       "      <th>x</th>\n",
       "      <th>xi</th>\n",
       "      <th>y</th>\n",
       "    </tr>\n",
       "  </thead>\n",
       "  <tbody>\n",
       "    <tr>\n",
       "      <th>0</th>\n",
       "      <td>361.809509</td>\n",
       "      <td>-72.003068</td>\n",
       "      <td>-6754.742188</td>\n",
       "      <td>0.822079</td>\n",
       "      <td>80.134384</td>\n",
       "      <td>0.800959</td>\n",
       "      <td>287.420959</td>\n",
       "      <td>0.974308</td>\n",
       "      <td>9.987314e+08</td>\n",
       "      <td>-3379.835938</td>\n",
       "      <td>-2291.428955</td>\n",
       "      <td>-9429.670898</td>\n",
       "    </tr>\n",
       "    <tr>\n",
       "      <th>1</th>\n",
       "      <td>362.825195</td>\n",
       "      <td>-72.001794</td>\n",
       "      <td>-6776.082031</td>\n",
       "      <td>0.820565</td>\n",
       "      <td>80.130274</td>\n",
       "      <td>0.799484</td>\n",
       "      <td>287.065308</td>\n",
       "      <td>0.974308</td>\n",
       "      <td>9.987314e+08</td>\n",
       "      <td>-3267.102051</td>\n",
       "      <td>-2230.487061</td>\n",
       "      <td>-9543.928711</td>\n",
       "    </tr>\n",
       "    <tr>\n",
       "      <th>2</th>\n",
       "      <td>362.222748</td>\n",
       "      <td>-72.001891</td>\n",
       "      <td>-6711.184082</td>\n",
       "      <td>0.831968</td>\n",
       "      <td>80.136865</td>\n",
       "      <td>0.810594</td>\n",
       "      <td>288.146912</td>\n",
       "      <td>0.974308</td>\n",
       "      <td>9.987314e+08</td>\n",
       "      <td>-3338.538086</td>\n",
       "      <td>-2266.635010</td>\n",
       "      <td>-9466.947266</td>\n",
       "    </tr>\n",
       "    <tr>\n",
       "      <th>3</th>\n",
       "      <td>362.832428</td>\n",
       "      <td>-72.001745</td>\n",
       "      <td>-6777.476074</td>\n",
       "      <td>0.820565</td>\n",
       "      <td>80.129999</td>\n",
       "      <td>0.799484</td>\n",
       "      <td>287.042084</td>\n",
       "      <td>0.974308</td>\n",
       "      <td>9.987314e+08</td>\n",
       "      <td>-3256.293945</td>\n",
       "      <td>-2230.054932</td>\n",
       "      <td>-9487.547852</td>\n",
       "    </tr>\n",
       "    <tr>\n",
       "      <th>4</th>\n",
       "      <td>362.669861</td>\n",
       "      <td>-72.000729</td>\n",
       "      <td>-6673.559082</td>\n",
       "      <td>0.831968</td>\n",
       "      <td>80.138769</td>\n",
       "      <td>0.810594</td>\n",
       "      <td>288.774017</td>\n",
       "      <td>0.974308</td>\n",
       "      <td>9.987314e+08</td>\n",
       "      <td>-3280.545898</td>\n",
       "      <td>-2239.809082</td>\n",
       "      <td>-9389.853516</td>\n",
       "    </tr>\n",
       "  </tbody>\n",
       "</table>\n",
       "</div>"
      ],
      "text/plain": [
       "          col        dec          eta      flat         ra  response  \\\n",
       "0  361.809509 -72.003068 -6754.742188  0.822079  80.134384  0.800959   \n",
       "1  362.825195 -72.001794 -6776.082031  0.820565  80.130274  0.799484   \n",
       "2  362.222748 -72.001891 -6711.184082  0.831968  80.136865  0.810594   \n",
       "3  362.832428 -72.001745 -6777.476074  0.820565  80.129999  0.799484   \n",
       "4  362.669861 -72.000729 -6673.559082  0.831968  80.138769  0.810594   \n",
       "\n",
       "          row     scale             t            x           xi            y  \n",
       "0  287.420959  0.974308  9.987314e+08 -3379.835938 -2291.428955 -9429.670898  \n",
       "1  287.065308  0.974308  9.987314e+08 -3267.102051 -2230.487061 -9543.928711  \n",
       "2  288.146912  0.974308  9.987314e+08 -3338.538086 -2266.635010 -9466.947266  \n",
       "3  287.042084  0.974308  9.987314e+08 -3256.293945 -2230.054932 -9487.547852  \n",
       "4  288.774017  0.974308  9.987314e+08 -3280.545898 -2239.809082 -9389.853516  "
      ]
     },
     "execution_count": 25,
     "metadata": {},
     "output_type": "execute_result"
    }
   ],
   "source": [
    "df_new.head()"
   ]
  },
  {
   "cell_type": "markdown",
   "metadata": {},
   "source": [
    "I guess we should do that for all the data!"
   ]
  },
  {
   "cell_type": "code",
   "execution_count": 26,
   "metadata": {
    "collapsed": false
   },
   "outputs": [],
   "source": [
    "def read_catalogue(filename, band=\"NUV\", dt=10.0, target_dir=\"./\", start_ind=0, end_ind=None):\n",
    "    \"\"\"\n",
    "    Read Galex Data for some of the catalogues I've got.\n",
    "    Note: This will only work with the LMXB and HMXB catalogue files in the \n",
    "    data directory!\n",
    "    \n",
    "    Everything else is probably not going to be in the right format. However, \n",
    "    the code below should be adaptable to whatever format your catalogue is in!\n",
    "    \n",
    "    Parameters\n",
    "    ----------\n",
    "    filename: string\n",
    "        The file name (including path) to your catalogue file\n",
    "    \n",
    "    band: {\"NUV | \"FUV\"}, optional, default \"NUV\"\n",
    "        The band to scrape the data from; either NUV (near UV) or FUV (far UV)\n",
    "        TODO: check whether there are more than two bands!\n",
    "    \n",
    "    dt: float, optional, default 10\n",
    "        The desired time resolution of the output light curve\n",
    "    \n",
    "    target_dir: string, optional, default \"./\"\n",
    "        The target directory for the output data, default is the current working directory\n",
    "    \n",
    "    start_ind: int, optional, default 0\n",
    "        If you want to load fewer rows from the catalogue file, this is the \n",
    "        index of the row you'd like to start with\n",
    "    end_ind: int, optional, default None\n",
    "        If you want to load fewer rows from the catalogue file, this is the \n",
    "        index of the row you'd like to end with.\n",
    "        If None, then this will be set to the last row in the catalogue.\n",
    "        \n",
    "    \"\"\"\n",
    "    \n",
    "    ## read in the catalogue\n",
    "    cat = pd.read_csv(filename, sep=\"|\", skipinitialspace=True,\n",
    "                        names=[\"name\", \"ra\", \"dec\", \"vmag\", \"bv_color\", \"porb\", \"flux_limit\",\n",
    "                              \"flux\", \"flux_max\", \"xray_type\", \"pulse_period\", \"alt_name_1\",\n",
    "                              \"alt_name_2\"],\n",
    "                        converters = {'name' : strip,\n",
    "                                      'ra' : strip,\n",
    "                                      'dec' : strip,\n",
    "                                      'vmag' : strip,\n",
    "                                      'bv_color': strip,\n",
    "                                      \"porb\": strip,\n",
    "                                      \"flux_limit\": strip,\n",
    "                                      \"flux\": strip,\n",
    "                                      \"flux_max\": strip,\n",
    "                                      \"xray_type\": strip,\n",
    "                                      \"pulse_period\": strip,\n",
    "                                      \"alt_name_1\": strip,\n",
    "                                      \"alt_name_2\": strip},\n",
    "                       usecols=range(1,14,1), index_col=False,\n",
    "                       skiprows=1)\n",
    "    \n",
    "    ## extract RA and Dec:\n",
    "    ra_all = np.array(cat[\"ra\"])\n",
    "    dec_all = np.array(cat[\"dec\"])\n",
    "    \n",
    "    ## store in coords object:\n",
    "    coords_all = [SkyCoord(\"%s %s\"%(ra, dec), unit=(u.hourangle, u.deg)) \\\n",
    "              for ra,dec in zip(ra_all, dec_all)]\n",
    "    \n",
    "\n",
    "    ## if the last index is None, then the last item of the \n",
    "    ## coordinate list is the final index to search through\n",
    "    if end_ind is None:\n",
    "        end_ind = len(coods_all)\n",
    "        \n",
    "        \n",
    "    for i,c in enumerate(coords_all[start_ind:end_ind]):\n",
    "        ## remove white spaces from object identifier\n",
    "        obj_id = \"\".join(cat.loc[i,\"name\"].split())\n",
    "        search_galex(c, band, dt, obj_id, target_dir)\n",
    "    return\n",
    "\n",
    "def search_galex(coords, band, dt, obj_id, target_dir=\"./\"):\n",
    "    \"\"\"\n",
    "    Search the GALEX gPhoton database for observations at a specific set \n",
    "    of coordinates, and if data exists, download it and save it to disc.\n",
    "    \n",
    "    Parameters\n",
    "    ----------\n",
    "    coords: astropy.coordinates.SkyCoord object\n",
    "        an object with the sky coordinates where to look for GALEX data\n",
    "    \n",
    "    band: {\"NUV\" | \"FUV\"}\n",
    "        Look for data in the near-UV or far-UV?\n",
    "    \n",
    "    dt: float\n",
    "        The desired time resolution of the output light curve\n",
    "    \n",
    "    obj_id: string\n",
    "        The object identifier to be used to save the data\n",
    "        \n",
    "    target_dir: string, optional, default \"./\"\n",
    "        The directory to store the data in. By default the current working directory\n",
    "    \n",
    "    \"\"\"\n",
    "    ## use gFind to see if there's data in GALEX\n",
    "    res = gFind(band=band,skypos=[coords.ra.degree,coords.dec.degree])\n",
    "    ## if not, continue\n",
    "    if res[band][\"expt\"] == 0:\n",
    "        return\n",
    "    else:\n",
    "        tstart = res[band][\"t0\"]\n",
    "        tend = res[band][\"t1\"]\n",
    "        #print(tstart[0])\n",
    "        #print(tend[0])\n",
    "        for i,(ts, te) in enumerate(zip(tstart, tend)):\n",
    "            ## otherwise find the object's name and fetch the data\n",
    "            d = gAperture(band=band, skypos=[coords.ra.degree,coords.dec.degree],radius=0.03,\n",
    "                          annulus=[0.03,0.04], trange=[ts, te], stepsz=dt,\n",
    "                          csvfile=\"%s%s_%s_lc%i.dat\"%(target_dir, obj_id, band, i))\n",
    "            ## move photons into a DataFrame\n",
    "            df = pd.DataFrame(d[\"photons\"])\n",
    "            ## store in HDF5 file:\n",
    "            df.to_hdf('%s%s_%s_%i_photons.h5'%(target_dir,obj_id, band, i),\n",
    "                      'table',append=False)\n",
    "\n",
    "    return"
   ]
  },
  {
   "cell_type": "code",
   "execution_count": 46,
   "metadata": {
    "collapsed": false
   },
   "outputs": [
    {
     "name": "stdout",
     "output_type": "stream",
     "text": [
      "No NUV exposure time in database.\n",
      "NUV: 4093.0s (raw) in 4 exposures.\n",
      "    [ 998731366.995, 998732435.995 ], 1069.000 seconds\n",
      "    [ 1003054424.995, 1003055880.995 ], 1456.000 seconds\n",
      "    [ 1003066256.995, 1003067714.995 ], 1458.000 seconds\n",
      "    [ 1003410169.995, 1003410279.995 ], 110.000 seconds\n",
      "NUV: 1221.0s (raw) in 1 exposures.\n",
      "    [ 1010837477.995, 1010838698.995 ], 1221.000 seconds\n",
      "No NUV exposure time in database.\n",
      "NUV: 197.0s (raw) in 2 exposures.\n",
      "    [ 989255562.995, 989255670.995 ], 108.000 seconds\n",
      "    [ 1012056105.995, 1012056194.995 ], 89.000 seconds\n"
     ]
    }
   ],
   "source": [
    "read_catalogue(\"../data/lmxb_cat.dat\", dt=10.0,target_dir=\"../data/\", end_ind=5)"
   ]
  },
  {
   "cell_type": "markdown",
   "metadata": {},
   "source": [
    "Let's test whether that worked!"
   ]
  },
  {
   "cell_type": "code",
   "execution_count": 27,
   "metadata": {
    "collapsed": false
   },
   "outputs": [
    {
     "ename": "IOError",
     "evalue": "File ../data/GS1124-684_photons.h5 does not exist",
     "output_type": "error",
     "traceback": [
      "\u001b[0;31m---------------------------------------------------------------------------\u001b[0m",
      "\u001b[0;31mIOError\u001b[0m                                   Traceback (most recent call last)",
      "\u001b[0;32m<ipython-input-27-fa6fb48cc9a2>\u001b[0m in \u001b[0;36m<module>\u001b[0;34m()\u001b[0m\n\u001b[0;32m----> 1\u001b[0;31m \u001b[0mdf_new\u001b[0m \u001b[0;34m=\u001b[0m \u001b[0mpd\u001b[0m\u001b[0;34m.\u001b[0m\u001b[0mread_hdf\u001b[0m\u001b[0;34m(\u001b[0m\u001b[0;34m\"../data/GS1124-684_photons.h5\"\u001b[0m\u001b[0;34m,\u001b[0m \u001b[0;34m\"table\"\u001b[0m\u001b[0;34m)\u001b[0m\u001b[0;34m\u001b[0m\u001b[0m\n\u001b[0m",
      "\u001b[0;32m/opt/local/Library/Frameworks/Python.framework/Versions/2.7/lib/python2.7/site-packages/pandas/io/pytables.pyc\u001b[0m in \u001b[0;36mread_hdf\u001b[0;34m(path_or_buf, key, **kwargs)\u001b[0m\n\u001b[1;32m    312\u001b[0m \u001b[0;34m\u001b[0m\u001b[0m\n\u001b[1;32m    313\u001b[0m         \u001b[0;32mif\u001b[0m \u001b[0;32mnot\u001b[0m \u001b[0mexists\u001b[0m\u001b[0;34m:\u001b[0m\u001b[0;34m\u001b[0m\u001b[0m\n\u001b[0;32m--> 314\u001b[0;31m             \u001b[0;32mraise\u001b[0m \u001b[0mIOError\u001b[0m\u001b[0;34m(\u001b[0m\u001b[0;34m'File %s does not exist'\u001b[0m \u001b[0;34m%\u001b[0m \u001b[0mpath_or_buf\u001b[0m\u001b[0;34m)\u001b[0m\u001b[0;34m\u001b[0m\u001b[0m\n\u001b[0m\u001b[1;32m    315\u001b[0m \u001b[0;34m\u001b[0m\u001b[0m\n\u001b[1;32m    316\u001b[0m         \u001b[0;31m# can't auto open/close if we are using an iterator\u001b[0m\u001b[0;34m\u001b[0m\u001b[0;34m\u001b[0m\u001b[0m\n",
      "\u001b[0;31mIOError\u001b[0m: File ../data/GS1124-684_photons.h5 does not exist"
     ]
    }
   ],
   "source": [
    "df_new = pd.read_hdf(\"../data/GS1124-684_photons.h5\", \"table\")"
   ]
  },
  {
   "cell_type": "code",
   "execution_count": 28,
   "metadata": {
    "collapsed": false
   },
   "outputs": [
    {
     "data": {
      "text/html": [
       "<div>\n",
       "<table border=\"1\" class=\"dataframe\">\n",
       "  <thead>\n",
       "    <tr style=\"text-align: right;\">\n",
       "      <th></th>\n",
       "      <th>col</th>\n",
       "      <th>dec</th>\n",
       "      <th>eta</th>\n",
       "      <th>flat</th>\n",
       "      <th>ra</th>\n",
       "      <th>response</th>\n",
       "      <th>row</th>\n",
       "      <th>scale</th>\n",
       "      <th>t</th>\n",
       "      <th>x</th>\n",
       "      <th>xi</th>\n",
       "      <th>y</th>\n",
       "    </tr>\n",
       "  </thead>\n",
       "  <tbody>\n",
       "    <tr>\n",
       "      <th>0</th>\n",
       "      <td>361.809509</td>\n",
       "      <td>-72.003068</td>\n",
       "      <td>-6754.742188</td>\n",
       "      <td>0.822079</td>\n",
       "      <td>80.134384</td>\n",
       "      <td>0.800959</td>\n",
       "      <td>287.420959</td>\n",
       "      <td>0.974308</td>\n",
       "      <td>9.987314e+08</td>\n",
       "      <td>-3379.835938</td>\n",
       "      <td>-2291.428955</td>\n",
       "      <td>-9429.670898</td>\n",
       "    </tr>\n",
       "    <tr>\n",
       "      <th>1</th>\n",
       "      <td>362.825195</td>\n",
       "      <td>-72.001794</td>\n",
       "      <td>-6776.082031</td>\n",
       "      <td>0.820565</td>\n",
       "      <td>80.130274</td>\n",
       "      <td>0.799484</td>\n",
       "      <td>287.065308</td>\n",
       "      <td>0.974308</td>\n",
       "      <td>9.987314e+08</td>\n",
       "      <td>-3267.102051</td>\n",
       "      <td>-2230.487061</td>\n",
       "      <td>-9543.928711</td>\n",
       "    </tr>\n",
       "    <tr>\n",
       "      <th>2</th>\n",
       "      <td>362.222748</td>\n",
       "      <td>-72.001891</td>\n",
       "      <td>-6711.184082</td>\n",
       "      <td>0.831968</td>\n",
       "      <td>80.136865</td>\n",
       "      <td>0.810594</td>\n",
       "      <td>288.146912</td>\n",
       "      <td>0.974308</td>\n",
       "      <td>9.987314e+08</td>\n",
       "      <td>-3338.538086</td>\n",
       "      <td>-2266.635010</td>\n",
       "      <td>-9466.947266</td>\n",
       "    </tr>\n",
       "    <tr>\n",
       "      <th>3</th>\n",
       "      <td>362.832428</td>\n",
       "      <td>-72.001745</td>\n",
       "      <td>-6777.476074</td>\n",
       "      <td>0.820565</td>\n",
       "      <td>80.129999</td>\n",
       "      <td>0.799484</td>\n",
       "      <td>287.042084</td>\n",
       "      <td>0.974308</td>\n",
       "      <td>9.987314e+08</td>\n",
       "      <td>-3256.293945</td>\n",
       "      <td>-2230.054932</td>\n",
       "      <td>-9487.547852</td>\n",
       "    </tr>\n",
       "    <tr>\n",
       "      <th>4</th>\n",
       "      <td>362.669861</td>\n",
       "      <td>-72.000729</td>\n",
       "      <td>-6673.559082</td>\n",
       "      <td>0.831968</td>\n",
       "      <td>80.138769</td>\n",
       "      <td>0.810594</td>\n",
       "      <td>288.774017</td>\n",
       "      <td>0.974308</td>\n",
       "      <td>9.987314e+08</td>\n",
       "      <td>-3280.545898</td>\n",
       "      <td>-2239.809082</td>\n",
       "      <td>-9389.853516</td>\n",
       "    </tr>\n",
       "  </tbody>\n",
       "</table>\n",
       "</div>"
      ],
      "text/plain": [
       "          col        dec          eta      flat         ra  response  \\\n",
       "0  361.809509 -72.003068 -6754.742188  0.822079  80.134384  0.800959   \n",
       "1  362.825195 -72.001794 -6776.082031  0.820565  80.130274  0.799484   \n",
       "2  362.222748 -72.001891 -6711.184082  0.831968  80.136865  0.810594   \n",
       "3  362.832428 -72.001745 -6777.476074  0.820565  80.129999  0.799484   \n",
       "4  362.669861 -72.000729 -6673.559082  0.831968  80.138769  0.810594   \n",
       "\n",
       "          row     scale             t            x           xi            y  \n",
       "0  287.420959  0.974308  9.987314e+08 -3379.835938 -2291.428955 -9429.670898  \n",
       "1  287.065308  0.974308  9.987314e+08 -3267.102051 -2230.487061 -9543.928711  \n",
       "2  288.146912  0.974308  9.987314e+08 -3338.538086 -2266.635010 -9466.947266  \n",
       "3  287.042084  0.974308  9.987314e+08 -3256.293945 -2230.054932 -9487.547852  \n",
       "4  288.774017  0.974308  9.987314e+08 -3280.545898 -2239.809082 -9389.853516  "
      ]
     },
     "execution_count": 28,
     "metadata": {},
     "output_type": "execute_result"
    }
   ],
   "source": [
    "df_new.head()"
   ]
  },
  {
   "cell_type": "markdown",
   "metadata": {},
   "source": [
    "Yay! We have data!\n",
    "\n",
    "Let's make a light curve:"
   ]
  },
  {
   "cell_type": "code",
   "execution_count": 29,
   "metadata": {
    "collapsed": true
   },
   "outputs": [],
   "source": [
    "from stingray import Lightcurve"
   ]
  },
  {
   "cell_type": "code",
   "execution_count": 30,
   "metadata": {
    "collapsed": false
   },
   "outputs": [
    {
     "name": "stdout",
     "output_type": "stream",
     "text": [
      "tseg: 1023.79499996\n",
      "timebin:  102\n"
     ]
    }
   ],
   "source": [
    "\n",
    "times = np.array(df_new[\"t\"])\n",
    "lc = Lightcurve.make_lightcurve(times, dt=10.0)"
   ]
  },
  {
   "cell_type": "markdown",
   "metadata": {},
   "source": [
    "What do the intervals between adjacent photons look like? If they have a specific scale, then there's likely a finite time resolution I need to worry about:"
   ]
  },
  {
   "cell_type": "code",
   "execution_count": 31,
   "metadata": {
    "collapsed": false
   },
   "outputs": [],
   "source": [
    "dt = np.diff(times)"
   ]
  },
  {
   "cell_type": "code",
   "execution_count": 32,
   "metadata": {
    "collapsed": false
   },
   "outputs": [
    {
     "data": {
      "text/plain": [
       "(array([ 24917,  48287,  74265,  96059, 117223, 147753, 171960, 203093,\n",
       "        228194, 243037]),)"
      ]
     },
     "execution_count": 32,
     "metadata": {},
     "output_type": "execute_result"
    }
   ],
   "source": [
    "np.where(np.isnan(np.log(dt)))"
   ]
  },
  {
   "cell_type": "code",
   "execution_count": 33,
   "metadata": {
    "collapsed": false
   },
   "outputs": [
    {
     "data": {
      "text/plain": [
       "230"
      ]
     },
     "execution_count": 33,
     "metadata": {},
     "output_type": "execute_result"
    }
   ],
   "source": [
    "len(np.where(dt > 1.4)[0])"
   ]
  },
  {
   "cell_type": "code",
   "execution_count": 34,
   "metadata": {
    "collapsed": false
   },
   "outputs": [
    {
     "data": {
      "text/plain": [
       "(0, 10)"
      ]
     },
     "execution_count": 34,
     "metadata": {},
     "output_type": "execute_result"
    },
    {
     "data": {
      "image/png": "[encoded data removed]",
      "text/plain": [
       "<matplotlib.figure.Figure at 0x115a04450>"
      ]
     },
     "metadata": {},
     "output_type": "display_data"
    }
   ],
   "source": [
    "log_dt = np.log(dt)\n",
    "sns.distplot(log_dt[np.isnan(log_dt)==False], hist_kws={\"range\":[0,10]})\n",
    "plt.xlim([0,10])"
   ]
  },
  {
   "cell_type": "markdown",
   "metadata": {},
   "source": [
    "There's a peak around 1.4 seconds. I should look up that time resolution within the GALEX user guide!"
   ]
  },
  {
   "cell_type": "code",
   "execution_count": 35,
   "metadata": {
    "collapsed": false
   },
   "outputs": [],
   "source": [
    "break_ind = np.where(dt > 10.0)[0]"
   ]
  },
  {
   "cell_type": "code",
   "execution_count": 36,
   "metadata": {
    "collapsed": false
   },
   "outputs": [
    {
     "name": "stdout",
     "output_type": "stream",
     "text": [
      "tseg: 1067.85500002\n",
      "timebin:  10678\n"
     ]
    }
   ],
   "source": [
    "lc1 = Lightcurve.make_lightcurve(times[:break_ind[0]], dt=0.1)\n",
    "#lc2 = Lightcurve.make_lightcurve(times[break_ind[0]+1:break_ind[1]], dt=0.1)\n",
    "#lc3 = Lightcurve.make_lightcurve(times[break_ind[1]+1:break_ind[2]], dt=0.1)"
   ]
  },
  {
   "cell_type": "code",
   "execution_count": 37,
   "metadata": {
    "collapsed": false
   },
   "outputs": [
    {
     "data": {
      "text/plain": [
       "[<matplotlib.lines.Line2D at 0x1136d3f90>]"
      ]
     },
     "execution_count": 37,
     "metadata": {},
     "output_type": "execute_result"
    },
    {
     "data": {
      "image/png": "[encoded data removed]",
      "text/plain": [
       "<matplotlib.figure.Figure at 0x115a04c10>"
      ]
     },
     "metadata": {},
     "output_type": "display_data"
    }
   ],
   "source": [
    "plt.figure(figsize=(16,8))\n",
    "plt.plot(lc1.time-lc1.time[0], lc1.countrate)\n",
    "\n",
    "#plt.figure(figsize=(16,8))\n",
    "#plt.plot(lc2.time-lc2.time[0], lc2.countrate)\n",
    "\n",
    "#plt.figure(figsize=(16,8))\n",
    "#plt.plot(lc3.time-lc3.time[0], lc3.countrate)"
   ]
  },
  {
   "cell_type": "markdown",
   "metadata": {},
   "source": [
    "Let's look what the periodogram looks like! At this point, this is really just something to squint at! There are gaps in the data I'll need to take into account properly!"
   ]
  },
  {
   "cell_type": "code",
   "execution_count": 38,
   "metadata": {
    "collapsed": true
   },
   "outputs": [],
   "source": [
    "from stingray import Powerspectrum"
   ]
  },
  {
   "cell_type": "code",
   "execution_count": 39,
   "metadata": {
    "collapsed": true
   },
   "outputs": [],
   "source": [
    "ps = Powerspectrum(lc1, norm=\"rms\")"
   ]
  },
  {
   "cell_type": "code",
   "execution_count": 40,
   "metadata": {
    "collapsed": false
   },
   "outputs": [
    {
     "data": {
      "text/plain": [
       "[<matplotlib.lines.Line2D at 0x1136ed110>]"
      ]
     },
     "execution_count": 40,
     "metadata": {},
     "output_type": "execute_result"
    },
    {
     "data": {
      "image/png": "[encoded data removed]",
      "text/plain": [
       "<matplotlib.figure.Figure at 0x115a044d0>"
      ]
     },
     "metadata": {},
     "output_type": "display_data"
    }
   ],
   "source": [
    "plt.loglog(ps.freq[1:], ps.ps[1:], linestyle=\"steps-mid\")"
   ]
  },
  {
   "cell_type": "code",
   "execution_count": 41,
   "metadata": {
    "collapsed": true
   },
   "outputs": [],
   "source": [
    "lfreq, lps, nsamp = ps.rebin_log(0.1)"
   ]
  },
  {
   "cell_type": "code",
   "execution_count": 42,
   "metadata": {
    "collapsed": false
   },
   "outputs": [
    {
     "data": {
      "text/plain": [
       "[<matplotlib.lines.Line2D at 0x11470bfd0>]"
      ]
     },
     "execution_count": 42,
     "metadata": {},
     "output_type": "execute_result"
    },
    {
     "data": {
      "image/png": "[encoded data removed]",
      "text/plain": [
       "<matplotlib.figure.Figure at 0x1136f6ed0>"
      ]
     },
     "metadata": {},
     "output_type": "display_data"
    }
   ],
   "source": [
    "plt.loglog(lfreq[1:], lps[1:]*lfreq[1:], linestyle=\"steps-mid\")"
   ]
  },
  {
   "cell_type": "markdown",
   "metadata": {},
   "source": [
    "So that looks like there's significant variability in the UV. But there are a lot of systematics I haven't looked into, so I might be completely wrong!"
   ]
  }
 ],
 "metadata": {
  "kernelspec": {
   "display_name": "Python 2",
   "language": "python",
   "name": "python2"
  },
  "language_info": {
   "codemirror_mode": {
    "name": "ipython",
    "version": 2
   },
   "file_extension": ".py",
   "mimetype": "text/x-python",
   "name": "python",
   "nbconvert_exporter": "python",
   "pygments_lexer": "ipython2",
   "version": "2.7.10"
  }
 },
 "nbformat": 4,
 "nbformat_minor": 0
}
